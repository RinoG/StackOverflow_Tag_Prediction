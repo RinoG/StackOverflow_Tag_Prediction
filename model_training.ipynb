{
 "cells": [
  {
   "cell_type": "markdown",
   "id": "84813606-e4f4-42f5-b817-57dc79985b11",
   "metadata": {},
   "source": [
    "# Model Training for \n",
    "\n",
    "1) Data preprocessing\n",
    "2) Baseline Model\n",
    "3) Fine Tuning BERT"
   ]
  },
  {
   "cell_type": "code",
   "execution_count": 1,
   "id": "96eb32fc-9b62-48de-955e-05b5e73cb8a3",
   "metadata": {},
   "outputs": [],
   "source": [
    "import pandas as pd\n",
    "import numpy as np\n",
    "import matplotlib.pyplot as plt\n",
    "from collections import Counter\n",
    "\n",
    "import nltk\n",
    "from sklearn.model_selection import train_test_split\n",
    "\n",
    "import warnings\n",
    "warnings.filterwarnings(\"ignore\")"
   ]
  },
  {
   "cell_type": "code",
   "execution_count": 63,
   "id": "17bc390d-823a-4303-88d8-e2467a2aad22",
   "metadata": {},
   "outputs": [
    {
     "name": "stdout",
     "output_type": "stream",
     "text": [
      "train:\t45000 rows (75.0%)\n",
      "valid:\t7500 rows (12.5%)\n",
      "test:\t7500 rows (12.5%)\n"
     ]
    }
   ],
   "source": [
    "train = pd.read_csv('data/train.csv')\n",
    "test = pd.read_csv('data/valid.csv')\n",
    "test, valid = train_test_split(test, test_size=0.5, random_state=42)\n",
    "\n",
    "# save first tag into Tag column\n",
    "train['Tag'] = train['Tags'].apply(lambda x: [tag for tag in x[1:-1].split('><') if tag][0])\n",
    "valid['Tag'] = valid['Tags'].apply(lambda x: [tag for tag in x[1:-1].split('><') if tag][0])\n",
    "test['Tag'] = test['Tags'].apply(lambda x: [tag for tag in x[1:-1].split('><') if tag][0])\n",
    "\n",
    "print(f\"train:\\t{len(train)} rows ({len(train) / (len(train) + len(valid) + len(test)) * 100}%)\")\n",
    "print(f\"valid:\\t{len(valid)} rows ({len(valid) / (len(train) + len(valid) + len(test)) * 100}%)\")\n",
    "print(f\"test:\\t{len(test)} rows ({len(test) / (len(train) + len(valid) + len(test)) * 100}%)\")"
   ]
  },
  {
   "cell_type": "code",
   "execution_count": 3,
   "id": "3e84a6ec-2cbd-4e30-91d7-a267aadea590",
   "metadata": {},
   "outputs": [
    {
     "data": {
      "text/html": [
       "<div>\n",
       "<style scoped>\n",
       "    .dataframe tbody tr th:only-of-type {\n",
       "        vertical-align: middle;\n",
       "    }\n",
       "\n",
       "    .dataframe tbody tr th {\n",
       "        vertical-align: top;\n",
       "    }\n",
       "\n",
       "    .dataframe thead th {\n",
       "        text-align: right;\n",
       "    }\n",
       "</style>\n",
       "<table border=\"1\" class=\"dataframe\">\n",
       "  <thead>\n",
       "    <tr style=\"text-align: right;\">\n",
       "      <th></th>\n",
       "      <th>Id</th>\n",
       "      <th>Title</th>\n",
       "      <th>Body</th>\n",
       "      <th>Tags</th>\n",
       "      <th>CreationDate</th>\n",
       "      <th>Y</th>\n",
       "      <th>Tag</th>\n",
       "    </tr>\n",
       "  </thead>\n",
       "  <tbody>\n",
       "    <tr>\n",
       "      <th>0</th>\n",
       "      <td>34552656</td>\n",
       "      <td>Java: Repeat Task Every Random Seconds</td>\n",
       "      <td>&lt;p&gt;I'm already familiar with repeating tasks e...</td>\n",
       "      <td>&lt;java&gt;&lt;repeat&gt;</td>\n",
       "      <td>2016-01-01 00:21:59</td>\n",
       "      <td>LQ_CLOSE</td>\n",
       "      <td>java</td>\n",
       "    </tr>\n",
       "    <tr>\n",
       "      <th>1</th>\n",
       "      <td>34553034</td>\n",
       "      <td>Why are Java Optionals immutable?</td>\n",
       "      <td>&lt;p&gt;I'd like to understand why Java 8 Optionals...</td>\n",
       "      <td>&lt;java&gt;&lt;optional&gt;</td>\n",
       "      <td>2016-01-01 02:03:20</td>\n",
       "      <td>HQ</td>\n",
       "      <td>java</td>\n",
       "    </tr>\n",
       "    <tr>\n",
       "      <th>2</th>\n",
       "      <td>34553174</td>\n",
       "      <td>Text Overlay Image with Darkened Opacity React...</td>\n",
       "      <td>&lt;p&gt;I am attempting to overlay a title over an ...</td>\n",
       "      <td>&lt;javascript&gt;&lt;image&gt;&lt;overlay&gt;&lt;react-native&gt;&lt;opa...</td>\n",
       "      <td>2016-01-01 02:48:24</td>\n",
       "      <td>HQ</td>\n",
       "      <td>javascript</td>\n",
       "    </tr>\n",
       "    <tr>\n",
       "      <th>3</th>\n",
       "      <td>34553318</td>\n",
       "      <td>Why ternary operator in swift is so picky?</td>\n",
       "      <td>&lt;p&gt;The question is very simple, but I just cou...</td>\n",
       "      <td>&lt;swift&gt;&lt;operators&gt;&lt;whitespace&gt;&lt;ternary-operato...</td>\n",
       "      <td>2016-01-01 03:30:17</td>\n",
       "      <td>HQ</td>\n",
       "      <td>swift</td>\n",
       "    </tr>\n",
       "    <tr>\n",
       "      <th>4</th>\n",
       "      <td>34553755</td>\n",
       "      <td>hide/show fab with scale animation</td>\n",
       "      <td>&lt;p&gt;I'm using custom floatingactionmenu. I need...</td>\n",
       "      <td>&lt;android&gt;&lt;material-design&gt;&lt;floating-action-but...</td>\n",
       "      <td>2016-01-01 05:21:48</td>\n",
       "      <td>HQ</td>\n",
       "      <td>android</td>\n",
       "    </tr>\n",
       "  </tbody>\n",
       "</table>\n",
       "</div>"
      ],
      "text/plain": [
       "         Id                                              Title  \\\n",
       "0  34552656             Java: Repeat Task Every Random Seconds   \n",
       "1  34553034                  Why are Java Optionals immutable?   \n",
       "2  34553174  Text Overlay Image with Darkened Opacity React...   \n",
       "3  34553318         Why ternary operator in swift is so picky?   \n",
       "4  34553755                 hide/show fab with scale animation   \n",
       "\n",
       "                                                Body  \\\n",
       "0  <p>I'm already familiar with repeating tasks e...   \n",
       "1  <p>I'd like to understand why Java 8 Optionals...   \n",
       "2  <p>I am attempting to overlay a title over an ...   \n",
       "3  <p>The question is very simple, but I just cou...   \n",
       "4  <p>I'm using custom floatingactionmenu. I need...   \n",
       "\n",
       "                                                Tags         CreationDate  \\\n",
       "0                                     <java><repeat>  2016-01-01 00:21:59   \n",
       "1                                   <java><optional>  2016-01-01 02:03:20   \n",
       "2  <javascript><image><overlay><react-native><opa...  2016-01-01 02:48:24   \n",
       "3  <swift><operators><whitespace><ternary-operato...  2016-01-01 03:30:17   \n",
       "4  <android><material-design><floating-action-but...  2016-01-01 05:21:48   \n",
       "\n",
       "          Y         Tag  \n",
       "0  LQ_CLOSE        java  \n",
       "1        HQ        java  \n",
       "2        HQ  javascript  \n",
       "3        HQ       swift  \n",
       "4        HQ     android  "
      ]
     },
     "execution_count": 3,
     "metadata": {},
     "output_type": "execute_result"
    }
   ],
   "source": [
    "train.head()"
   ]
  },
  {
   "cell_type": "code",
   "execution_count": 4,
   "id": "5f34348c-567c-46cd-b96d-fd1abf30b9a8",
   "metadata": {},
   "outputs": [
    {
     "data": {
      "text/plain": [
       "Id              0\n",
       "Title           0\n",
       "Body            0\n",
       "Tags            0\n",
       "CreationDate    0\n",
       "Y               0\n",
       "Tag             0\n",
       "dtype: int64"
      ]
     },
     "execution_count": 4,
     "metadata": {},
     "output_type": "execute_result"
    }
   ],
   "source": [
    "# check for missing values\n",
    "train.isna().sum()"
   ]
  },
  {
   "cell_type": "code",
   "execution_count": 5,
   "id": "d49207ce-f346-4d29-b6e9-23463cb5a605",
   "metadata": {},
   "outputs": [
    {
     "name": "stdout",
     "output_type": "stream",
     "text": [
      "1348 unique tags\n"
     ]
    },
    {
     "data": {
      "image/png": "[encoded data removed]",
      "text/plain": [
       "<Figure size 1000x600 with 1 Axes>"
      ]
     },
     "metadata": {},
     "output_type": "display_data"
    }
   ],
   "source": [
    "# Counting the frequency of each tag\n",
    "tag_counts = Counter(train['Tag'])\n",
    "\n",
    "# Getting the most common tags\n",
    "most_common_tags = tag_counts.most_common(10)  # Adjust the number as needed\n",
    "print(f\"{len(tag_counts)} unique tags\")\n",
    "\n",
    "# Plotting\n",
    "tags, counts = zip(*most_common_tags)\n",
    "plt.figure(figsize=(10, 6))\n",
    "plt.bar(tags, counts)\n",
    "plt.xlabel('Tags')\n",
    "plt.ylabel('Frequency')\n",
    "plt.title('Top 10 Most Common Tags')\n",
    "plt.xticks(rotation=45)\n",
    "plt.show()"
   ]
  },
  {
   "cell_type": "code",
   "execution_count": 6,
   "id": "b778814d-13d0-4dd1-be8a-49948a3c540c",
   "metadata": {},
   "outputs": [
    {
     "name": "stdout",
     "output_type": "stream",
     "text": [
      "Max Title length = 33\n"
     ]
    },
    {
     "data": {
      "image/png": "[encoded data removed]",
      "text/plain": [
       "<Figure size 1000x600 with 1 Axes>"
      ]
     },
     "metadata": {},
     "output_type": "display_data"
    }
   ],
   "source": [
    "word_length = train['Title'].apply(lambda x: len(x.split()))\n",
    "word_length = Counter(word_length)\n",
    "\n",
    "max_length = max(word_length.keys())\n",
    "\n",
    "print (f\"Max Title length = {max_length}\")\n",
    "plt.figure(figsize=(10, 6))\n",
    "plt.bar(word_length.keys(), word_length.values())\n",
    "plt.xlabel('Title')\n",
    "plt.ylabel('Word Length')\n",
    "plt.title('Word Length of Titles')\n",
    "plt.xticks(rotation=45)\n",
    "plt.show()"
   ]
  },
  {
   "cell_type": "markdown",
   "id": "96b29287-9719-4a27-8392-1cd6ca04657b",
   "metadata": {},
   "source": [
    "# Baseline Model"
   ]
  },
  {
   "cell_type": "code",
   "execution_count": 138,
   "id": "3ab86516-ce1b-4177-8d58-edd452e78568",
   "metadata": {},
   "outputs": [],
   "source": [
    "import time\n",
    "from transformers import BertTokenizer\n",
    "from sklearn.preprocessing import MultiLabelBinarizer\n",
    "from sklearn.feature_extraction.text import TfidfVectorizer\n",
    "from sklearn.svm import LinearSVC\n",
    "from sklearn.multiclass import OneVsRestClassifier\n",
    "from sklearn.metrics import f1_score, precision_score, recall_score\n",
    "from sklearn.naive_bayes import MultinomialNB"
   ]
  },
  {
   "cell_type": "code",
   "execution_count": 135,
   "id": "bdd601e7-4fd4-4e17-80e9-0249955422dd",
   "metadata": {},
   "outputs": [],
   "source": [
    "# Encoding the labels\n",
    "label_encoder = LabelEncoder()\n",
    "label_encoder.fit(pd.concat([train['Tag'], valid['Tag'], test['Tag']]))\n",
    "\n",
    "X_train = pd.concat([train['Title'], valid['Title']])\n",
    "y_train = label_encoder.transform(pd.concat([train['Tag'], valid['Tag']]))\n",
    "\n",
    "X_test = test['Title']\n",
    "y_test = label_encoder.transform(test['Tag'])"
   ]
  },
  {
   "cell_type": "code",
   "execution_count": 136,
   "id": "97a7b0ba-67e4-4bbb-ae16-0888b5d7a7e2",
   "metadata": {},
   "outputs": [],
   "source": [
    "# TF-IDF Vectorization\n",
    "tfidf_vectorizer = TfidfVectorizer(max_features=10000)\n",
    "X_train = tfidf_vectorizer.fit_transform(X_train)\n",
    "X_test = tfidf_vectorizer.transform(X_test)"
   ]
  },
  {
   "cell_type": "code",
   "execution_count": 139,
   "id": "c3b740ea-834b-48ca-b4a6-8bc62cd133fb",
   "metadata": {},
   "outputs": [
    {
     "data": {
      "text/html": [
       "<style>#sk-container-id-2 {color: black;}#sk-container-id-2 pre{padding: 0;}#sk-container-id-2 div.sk-toggleable {background-color: white;}#sk-container-id-2 label.sk-toggleable__label {cursor: pointer;display: block;width: 100%;margin-bottom: 0;padding: 0.3em;box-sizing: border-box;text-align: center;}#sk-container-id-2 label.sk-toggleable__label-arrow:before {content: \"▸\";float: left;margin-right: 0.25em;color: #696969;}#sk-container-id-2 label.sk-toggleable__label-arrow:hover:before {color: black;}#sk-container-id-2 div.sk-estimator:hover label.sk-toggleable__label-arrow:before {color: black;}#sk-container-id-2 div.sk-toggleable__content {max-height: 0;max-width: 0;overflow: hidden;text-align: left;background-color: #f0f8ff;}#sk-container-id-2 div.sk-toggleable__content pre {margin: 0.2em;color: black;border-radius: 0.25em;background-color: #f0f8ff;}#sk-container-id-2 input.sk-toggleable__control:checked~div.sk-toggleable__content {max-height: 200px;max-width: 100%;overflow: auto;}#sk-container-id-2 input.sk-toggleable__control:checked~label.sk-toggleable__label-arrow:before {content: \"▾\";}#sk-container-id-2 div.sk-estimator input.sk-toggleable__control:checked~label.sk-toggleable__label {background-color: #d4ebff;}#sk-container-id-2 div.sk-label input.sk-toggleable__control:checked~label.sk-toggleable__label {background-color: #d4ebff;}#sk-container-id-2 input.sk-hidden--visually {border: 0;clip: rect(1px 1px 1px 1px);clip: rect(1px, 1px, 1px, 1px);height: 1px;margin: -1px;overflow: hidden;padding: 0;position: absolute;width: 1px;}#sk-container-id-2 div.sk-estimator {font-family: monospace;background-color: #f0f8ff;border: 1px dotted black;border-radius: 0.25em;box-sizing: border-box;margin-bottom: 0.5em;}#sk-container-id-2 div.sk-estimator:hover {background-color: #d4ebff;}#sk-container-id-2 div.sk-parallel-item::after {content: \"\";width: 100%;border-bottom: 1px solid gray;flex-grow: 1;}#sk-container-id-2 div.sk-label:hover label.sk-toggleable__label {background-color: #d4ebff;}#sk-container-id-2 div.sk-serial::before {content: \"\";position: absolute;border-left: 1px solid gray;box-sizing: border-box;top: 0;bottom: 0;left: 50%;z-index: 0;}#sk-container-id-2 div.sk-serial {display: flex;flex-direction: column;align-items: center;background-color: white;padding-right: 0.2em;padding-left: 0.2em;position: relative;}#sk-container-id-2 div.sk-item {position: relative;z-index: 1;}#sk-container-id-2 div.sk-parallel {display: flex;align-items: stretch;justify-content: center;background-color: white;position: relative;}#sk-container-id-2 div.sk-item::before, #sk-container-id-2 div.sk-parallel-item::before {content: \"\";position: absolute;border-left: 1px solid gray;box-sizing: border-box;top: 0;bottom: 0;left: 50%;z-index: -1;}#sk-container-id-2 div.sk-parallel-item {display: flex;flex-direction: column;z-index: 1;position: relative;background-color: white;}#sk-container-id-2 div.sk-parallel-item:first-child::after {align-self: flex-end;width: 50%;}#sk-container-id-2 div.sk-parallel-item:last-child::after {align-self: flex-start;width: 50%;}#sk-container-id-2 div.sk-parallel-item:only-child::after {width: 0;}#sk-container-id-2 div.sk-dashed-wrapped {border: 1px dashed gray;margin: 0 0.4em 0.5em 0.4em;box-sizing: border-box;padding-bottom: 0.4em;background-color: white;}#sk-container-id-2 div.sk-label label {font-family: monospace;font-weight: bold;display: inline-block;line-height: 1.2em;}#sk-container-id-2 div.sk-label-container {text-align: center;}#sk-container-id-2 div.sk-container {/* jupyter's `normalize.less` sets `[hidden] { display: none; }` but bootstrap.min.css set `[hidden] { display: none !important; }` so we also need the `!important` here to be able to override the default hidden behavior on the sphinx rendered scikit-learn.org. See: https://github.com/scikit-learn/scikit-learn/issues/21755 */display: inline-block !important;position: relative;}#sk-container-id-2 div.sk-text-repr-fallback {display: none;}</style><div id=\"sk-container-id-2\" class=\"sk-top-container\"><div class=\"sk-text-repr-fallback\"><pre>MultinomialNB()</pre><b>In a Jupyter environment, please rerun this cell to show the HTML representation or trust the notebook. <br />On GitHub, the HTML representation is unable to render, please try loading this page with nbviewer.org.</b></div><div class=\"sk-container\" hidden><div class=\"sk-item\"><div class=\"sk-estimator sk-toggleable\"><input class=\"sk-toggleable__control sk-hidden--visually\" id=\"sk-estimator-id-2\" type=\"checkbox\" checked><label for=\"sk-estimator-id-2\" class=\"sk-toggleable__label sk-toggleable__label-arrow\">MultinomialNB</label><div class=\"sk-toggleable__content\"><pre>MultinomialNB()</pre></div></div></div></div></div>"
      ],
      "text/plain": [
       "MultinomialNB()"
      ]
     },
     "execution_count": 139,
     "metadata": {},
     "output_type": "execute_result"
    }
   ],
   "source": [
    "# Train the model\n",
    "nb_model = MultinomialNB()\n",
    "nb_model.fit(X_train, y_train)"
   ]
  },
  {
   "cell_type": "code",
   "execution_count": 144,
   "id": "0ddf0cef-45cd-4099-a03b-733541ffa3d4",
   "metadata": {},
   "outputs": [
    {
     "name": "stdout",
     "output_type": "stream",
     "text": [
      "F1 Score: 0.291\n",
      "Precision: 0.355\n",
      "Recall: 0.381\n"
     ]
    }
   ],
   "source": [
    "# Predictions\n",
    "y_pred = nb_model.predict(X_test)\n",
    "\n",
    "# Calculate metrics\n",
    "f1 = f1_score(y_test, y_pred, average='weighted')\n",
    "precision = precision_score(y_test, y_pred, average='weighted')\n",
    "recall = recall_score(y_test, y_pred, average='weighted')\n",
    "\n",
    "print(f\"F1 Score: {f1:.3}\")\n",
    "print(f\"Precision: {precision:.3}\")\n",
    "print(f\"Recall: {recall:.3}\")"
   ]
  },
  {
   "cell_type": "markdown",
   "id": "c447e80c-0bcd-4c0c-856e-1d814e5e5b21",
   "metadata": {},
   "source": [
    "# fine tune BERT"
   ]
  },
  {
   "cell_type": "code",
   "execution_count": 146,
   "id": "81e757f3-cbcf-4680-ae3f-89a73d82fa4c",
   "metadata": {},
   "outputs": [],
   "source": [
    "from sklearn.preprocessing import LabelEncoder\n",
    "from transformers import BertTokenizer, BertForSequenceClassification, AdamW, AutoTokenizer\n",
    "from copy import deepcopy\n",
    "from tqdm import tqdm\n",
    "from torch.utils.data import DataLoader\n",
    "import torch\n",
    "import torch.nn as nn\n",
    "import pickle"
   ]
  },
  {
   "cell_type": "code",
   "execution_count": 67,
   "id": "381053a8-f1bd-4422-ae39-8bf44b2eeb2b",
   "metadata": {},
   "outputs": [],
   "source": [
    "class TagDataset(torch.utils.data.Dataset):\n",
    "    def __init__(self, dataframe, label_encoder, tokenizer, max_length):\n",
    "        self.len = len(dataframe)\n",
    "        self.data = dataframe\n",
    "        self.data['Tag'] = label_encoder.transform(self.data['Tag'])\n",
    "        self.tokenizer = tokenizer\n",
    "        self.max_length = max_length\n",
    "\n",
    "    def __getitem__(self, index):\n",
    "        title = str(self.data['Title'][index])\n",
    "        tag = self.data['Tag'][index]\n",
    "\n",
    "        # Tokenize the title\n",
    "        inputs = self.tokenizer.encode_plus(\n",
    "            title,\n",
    "            None,\n",
    "            add_special_tokens=True,\n",
    "            max_length=self.max_length,\n",
    "            padding='max_length',\n",
    "            return_token_type_ids=True,\n",
    "            truncation=True\n",
    "        )\n",
    "\n",
    "        ids = inputs['input_ids']\n",
    "        mask = inputs['attention_mask']\n",
    "\n",
    "        return {\n",
    "            'ids': torch.tensor(ids, dtype=torch.long),\n",
    "            'mask': torch.tensor(mask, dtype=torch.long),\n",
    "            'targets': torch.tensor(tag, dtype=torch.long)\n",
    "        }\n",
    "\n",
    "    def __len__(self):\n",
    "        return self.len\n",
    "\n",
    "label_encoder = LabelEncoder()\n",
    "label_encoder.fit(pd.concat([train['Tag'], valid['Tag'], test['Tag']]))\n",
    "\n",
    "tokenizer = BertTokenizer.from_pretrained('bert-base-uncased')\n",
    "\n",
    "train_df = deepcopy(train).reset_index(drop=True)\n",
    "valid_df = deepcopy(valid).reset_index(drop=True)\n",
    "test_df = deepcopy(test).reset_index(drop=True)\n",
    "\n",
    "# Create dataloaders\n",
    "train_loader = DataLoader(TagDataset(train_df, label_encoder, tokenizer, max_length), batch_size=32, shuffle=True)\n",
    "valid_loader = DataLoader(TagDataset(valid_df, label_encoder, tokenizer, max_length), batch_size=32)\n",
    "test_loader = DataLoader(TagDataset(test_df, label_encoder, tokenizer, max_length), batch_size=32)"
   ]
  },
  {
   "cell_type": "code",
   "execution_count": 30,
   "id": "09fa1d98-8104-4631-a58c-605cd8f02e17",
   "metadata": {},
   "outputs": [],
   "source": [
    "def train_model(model, train_loader, valid_loader, optimizer, loss_fn, epochs, device):\n",
    "    model.to(device)\n",
    "    \n",
    "    for epoch in range(epochs):\n",
    "        model.train()\n",
    "        total_loss = 0\n",
    "\n",
    "        for batch in tqdm(train_loader, desc=f\"Training Epoch {epoch+1}/{epochs}\"):\n",
    "            # Move batch to device\n",
    "            ids = batch['ids'].to(device)\n",
    "            mask = batch['mask'].to(device)\n",
    "            targets = batch['targets'].to(device)\n",
    "\n",
    "            # Forward pass\n",
    "            outputs = model(input_ids=ids, attention_mask=mask, labels=targets)\n",
    "            loss = outputs.loss\n",
    "\n",
    "            # Backward pass and optimization\n",
    "            optimizer.zero_grad()\n",
    "            loss.backward()\n",
    "            optimizer.step()\n",
    "\n",
    "            total_loss += loss.item()\n",
    "\n",
    "        avg_loss = total_loss / len(train_loader)\n",
    "        print(f\"Average Training Loss for Epoch {epoch+1}: {avg_loss}\")\n",
    "\n",
    "        # Validation\n",
    "        evaluate_model(model, valid_loader, loss_fn, device)"
   ]
  },
  {
   "cell_type": "code",
   "execution_count": 31,
   "id": "a88c4be9-c3e1-43b1-a684-4d57c5873a02",
   "metadata": {},
   "outputs": [],
   "source": [
    "def evaluate_model(model, data_loader, loss_fn, device):\n",
    "    model.eval()\n",
    "    total_loss, total_accuracy = 0, 0\n",
    "\n",
    "    with torch.no_grad():\n",
    "        for batch in tqdm(data_loader, desc=\"Evaluating\"):\n",
    "            # Move batch to device\n",
    "            ids = batch['ids'].to(device)\n",
    "            mask = batch['mask'].to(device)\n",
    "            targets = batch['targets'].to(device)\n",
    "\n",
    "            # Forward pass\n",
    "            outputs = model(input_ids=ids, attention_mask=mask, labels=targets)\n",
    "            loss = outputs.loss\n",
    "            total_loss += loss.item()\n",
    "\n",
    "            # Compute accuracy\n",
    "            preds = torch.argmax(outputs.logits, dim=1)\n",
    "            total_accuracy += (preds == targets).sum().item()\n",
    "\n",
    "    avg_loss = total_loss / len(data_loader)\n",
    "    accuracy = total_accuracy / (len(data_loader.dataset))\n",
    "\n",
    "    print(f\"Validation Loss: {avg_loss}\")\n",
    "    print(f\"Validation Accuracy: {accuracy}\")"
   ]
  },
  {
   "cell_type": "code",
   "execution_count": 32,
   "id": "21024f76-e56d-4c36-829e-e331e10ae3ef",
   "metadata": {},
   "outputs": [
    {
     "name": "stderr",
     "output_type": "stream",
     "text": [
      "Some weights of BertForSequenceClassification were not initialized from the model checkpoint at bert-base-uncased and are newly initialized: ['classifier.weight', 'classifier.bias']\n",
      "You should probably TRAIN this model on a down-stream task to be able to use it for predictions and inference.\n",
      "Training Epoch 1/4: 100%|███████████████████████████████████████████████████████| 1407/1407 [47:04<00:00,  2.01s/it]\n"
     ]
    },
    {
     "name": "stdout",
     "output_type": "stream",
     "text": [
      "Average Training Loss for Epoch 1: 2.9040516761489683\n"
     ]
    },
    {
     "name": "stderr",
     "output_type": "stream",
     "text": [
      "Evaluating: 100%|█████████████████████████████████████████████████████████████████| 235/235 [02:13<00:00,  1.76it/s]\n"
     ]
    },
    {
     "name": "stdout",
     "output_type": "stream",
     "text": [
      "Validation Loss: 2.2458874524907864\n",
      "Validation Accuracy: 0.5396\n"
     ]
    },
    {
     "name": "stderr",
     "output_type": "stream",
     "text": [
      "Training Epoch 2/4: 100%|███████████████████████████████████████████████████████| 1407/1407 [49:35<00:00,  2.11s/it]\n"
     ]
    },
    {
     "name": "stdout",
     "output_type": "stream",
     "text": [
      "Average Training Loss for Epoch 2: 2.009959532084326\n"
     ]
    },
    {
     "name": "stderr",
     "output_type": "stream",
     "text": [
      "Evaluating: 100%|█████████████████████████████████████████████████████████████████| 235/235 [02:16<00:00,  1.72it/s]\n"
     ]
    },
    {
     "name": "stdout",
     "output_type": "stream",
     "text": [
      "Validation Loss: 2.0474727947661218\n",
      "Validation Accuracy: 0.5648\n"
     ]
    },
    {
     "name": "stderr",
     "output_type": "stream",
     "text": [
      "Training Epoch 3/4: 100%|███████████████████████████████████████████████████████| 1407/1407 [50:36<00:00,  2.16s/it]\n"
     ]
    },
    {
     "name": "stdout",
     "output_type": "stream",
     "text": [
      "Average Training Loss for Epoch 3: 1.660893373440239\n"
     ]
    },
    {
     "name": "stderr",
     "output_type": "stream",
     "text": [
      "Evaluating: 100%|█████████████████████████████████████████████████████████████████| 235/235 [02:22<00:00,  1.65it/s]\n"
     ]
    },
    {
     "name": "stdout",
     "output_type": "stream",
     "text": [
      "Validation Loss: 2.040106731526395\n",
      "Validation Accuracy: 0.5750666666666666\n"
     ]
    },
    {
     "name": "stderr",
     "output_type": "stream",
     "text": [
      "Training Epoch 4/4: 100%|███████████████████████████████████████████████████████| 1407/1407 [52:35<00:00,  2.24s/it]\n"
     ]
    },
    {
     "name": "stdout",
     "output_type": "stream",
     "text": [
      "Average Training Loss for Epoch 4: 1.3718146429514326\n"
     ]
    },
    {
     "name": "stderr",
     "output_type": "stream",
     "text": [
      "Evaluating: 100%|█████████████████████████████████████████████████████████████████| 235/235 [03:12<00:00,  1.22it/s]"
     ]
    },
    {
     "name": "stdout",
     "output_type": "stream",
     "text": [
      "Validation Loss: 2.0913253122187676\n",
      "Validation Accuracy: 0.5730666666666666\n"
     ]
    },
    {
     "name": "stderr",
     "output_type": "stream",
     "text": [
      "\n"
     ]
    }
   ],
   "source": [
    "num_unique_tags = len(set(pd.concat([train['Tag'], valid['Tag'], test['Tag']])))\n",
    "model = BertForSequenceClassification.from_pretrained('bert-base-uncased', num_labels=num_unique_tags)\n",
    "\n",
    "optimizer = AdamW(model.parameters(), lr=5e-5)\n",
    "\n",
    "loss_fn = nn.CrossEntropyLoss()\n",
    "\n",
    "epochs = 4\n",
    "\n",
    "device = torch.device(\"cpu\")\n",
    "\n",
    "train_model(model, train_loader, valid_loader, optimizer, loss_fn, epochs, device)"
   ]
  },
  {
   "cell_type": "code",
   "execution_count": 33,
   "id": "423af6d8-b47b-4bc5-bd31-8a9de5318ad6",
   "metadata": {},
   "outputs": [
    {
     "data": {
      "text/plain": [
       "('bert-tokenizer/tokenizer_config.json',\n",
       " 'bert-tokenizer/special_tokens_map.json',\n",
       " 'bert-tokenizer/vocab.txt',\n",
       " 'bert-tokenizer/added_tokens.json')"
      ]
     },
     "execution_count": 33,
     "metadata": {},
     "output_type": "execute_result"
    }
   ],
   "source": [
    "# # Save the model and tokenizer\n",
    "# model.save_pretrained('fine-tuned-model')\n",
    "# tokenizer.save_pretrained('bert-tokenizer')\n",
    "# with open('label_encoder.pkl', 'wb') as file:\n",
    "#     pickle.dump(label_encoder, file)"
   ]
  },
  {
   "cell_type": "code",
   "execution_count": 147,
   "id": "892d73ed-ec47-450a-baf9-1633deb9d1d5",
   "metadata": {},
   "outputs": [],
   "source": [
    "# # load model\n",
    "model = AutoModelForSequenceClassification.from_pretrained('fine-tuned-model')\n",
    "tokenizer = AutoTokenizer.from_pretrained('bert-tokenizer')\n",
    "with open('label_encoder.pkl', 'rb') as file:\n",
    "    label_encoder = pickle.load(file)"
   ]
  },
  {
   "cell_type": "code",
   "execution_count": 148,
   "id": "fe325fea-22ac-41cc-8c4e-c713bf1666e1",
   "metadata": {},
   "outputs": [],
   "source": [
    "from sklearn.metrics import f1_score, precision_score, recall_score\n",
    "import numpy as np\n",
    "\n",
    "def predict(model, test_loader, device):\n",
    "    model.eval()\n",
    "    predictions, true_labels = [], []\n",
    "\n",
    "    with torch.no_grad():\n",
    "        for batch in test_loader:\n",
    "            ids = batch['ids'].to(device)\n",
    "            mask = batch['mask'].to(device)\n",
    "            targets = batch['targets'].to(device)\n",
    "\n",
    "            outputs = model(input_ids=ids, attention_mask=mask)\n",
    "            preds = torch.argmax(outputs.logits, dim=1)\n",
    "\n",
    "            predictions.extend(preds.cpu().numpy())\n",
    "            true_labels.extend(targets.cpu().numpy())\n",
    "\n",
    "    return np.array(predictions), np.array(true_labels)\n"
   ]
  },
  {
   "cell_type": "code",
   "execution_count": 149,
   "id": "ce236425-ae64-47f5-bedd-054f7630c23c",
   "metadata": {},
   "outputs": [
    {
     "name": "stdout",
     "output_type": "stream",
     "text": [
      "F1 Score: 0.547\n",
      "Precision: 0.532\n",
      "Recall: 0.578\n"
     ]
    }
   ],
   "source": [
    "predictions, true_labels = predict(model, test_loader, device)\n",
    "\n",
    "# Calculate metrics\n",
    "f1 = f1_score(true_labels, predictions, average='weighted')\n",
    "precision = precision_score(true_labels, predictions, average='weighted')\n",
    "recall = recall_score(true_labels, predictions, average='weighted')\n",
    "\n",
    "print(f\"F1 Score: {f1:.3}\")\n",
    "print(f\"Precision: {precision:.3}\")\n",
    "print(f\"Recall: {recall:.3}\")"
   ]
  },
  {
   "cell_type": "markdown",
   "id": "41a67ea3-456b-4792-bf5e-b98b409e767d",
   "metadata": {},
   "source": [
    "# Pruning"
   ]
  },
  {
   "cell_type": "code",
   "execution_count": 150,
   "id": "b29fbba5-e524-41ac-94b2-93deec5de850",
   "metadata": {},
   "outputs": [],
   "source": [
    "from transformers import AutoModelForSequenceClassification\n",
    "\n",
    "model = AutoModelForSequenceClassification.from_pretrained('fine-tuned-model')"
   ]
  },
  {
   "cell_type": "code",
   "execution_count": 151,
   "id": "e1b94fb4-67e6-4d51-81e0-343156e87f0b",
   "metadata": {},
   "outputs": [],
   "source": [
    "import torch.nn.utils.prune as prune\n",
    "\n",
    "for name, module in model.named_modules():\n",
    "    if isinstance(module, torch.nn.Linear):\n",
    "        prune.l1_unstructured(module, name='weight', amount=0.5)\n",
    "\n",
    "for module in model.modules():\n",
    "    if isinstance(module, torch.nn.Linear):\n",
    "        prune.remove(module, 'weight')"
   ]
  },
  {
   "cell_type": "code",
   "execution_count": 152,
   "id": "3848aed1-6bab-4211-976f-25618d668689",
   "metadata": {},
   "outputs": [],
   "source": [
    "model.save_pretrained('fine-tuned-model-prune')"
   ]
  },
  {
   "cell_type": "code",
   "execution_count": 153,
   "id": "417215f3-4e75-4309-b6b1-2ecb71c8daa9",
   "metadata": {},
   "outputs": [
    {
     "name": "stdout",
     "output_type": "stream",
     "text": [
      "F1 Score: 0.534\n",
      "Precision: 0.519\n",
      "Recall: 0.573\n"
     ]
    }
   ],
   "source": [
    "predictions, true_labels = predict(model, test_loader, device)\n",
    "\n",
    "# Calculate metrics\n",
    "f1 = f1_score(true_labels, predictions, average='weighted')\n",
    "precision = precision_score(true_labels, predictions, average='weighted')\n",
    "recall = recall_score(true_labels, predictions, average='weighted')\n",
    "\n",
    "print(f\"F1 Score: {f1:.3}\")\n",
    "print(f\"Precision: {precision:.3}\")\n",
    "print(f\"Recall: {recall:.3}\")"
   ]
  },
  {
   "cell_type": "markdown",
   "id": "8c38c6b0-9c95-46dc-92c2-4cef812f2fd1",
   "metadata": {},
   "source": [
    "# Quantization"
   ]
  },
  {
   "cell_type": "code",
   "execution_count": 170,
   "id": "0667f1c5-86e1-4c77-9770-e78c3f9b4e24",
   "metadata": {},
   "outputs": [],
   "source": [
    "from transformers import AutoModelForSequenceClassification\n",
    "\n",
    "model = AutoModelForSequenceClassification.from_pretrained('fine-tuned-model')"
   ]
  },
  {
   "cell_type": "code",
   "execution_count": 171,
   "id": "d5bee761-d6dd-45da-b0ac-88080d0bd6f3",
   "metadata": {},
   "outputs": [],
   "source": [
    "from torch.quantization import quantize_dynamic\n",
    "\n",
    "quantized_model = quantize_dynamic(\n",
    "    model, \n",
    "    {torch.nn.Linear},\n",
    "    dtype=torch.qint8\n",
    ")"
   ]
  },
  {
   "cell_type": "code",
   "execution_count": 174,
   "id": "e04f56eb-4ce0-4a05-b289-6e57d63d106b",
   "metadata": {},
   "outputs": [
    {
     "name": "stdout",
     "output_type": "stream",
     "text": [
      "F1 Score: 0.533\n",
      "Precision: 0.525\n",
      "Recall: 0.57\n"
     ]
    }
   ],
   "source": [
    "predictions, true_labels = predict(quantized_model, test_loader, device)\n",
    "\n",
    "# Calculate metrics\n",
    "f1 = f1_score(true_labels, predictions, average='weighted')\n",
    "precision = precision_score(true_labels, predictions, average='weighted')\n",
    "recall = recall_score(true_labels, predictions, average='weighted')\n",
    "\n",
    "print(f\"F1 Score: {f1:.3}\")\n",
    "print(f\"Precision: {precision:.3}\")\n",
    "print(f\"Recall: {recall:.3}\")"
   ]
  },
  {
   "cell_type": "markdown",
   "id": "982bebcb-2e37-4fb9-874c-b6ec38c63d42",
   "metadata": {},
   "source": [
    "# Prune and Quantization"
   ]
  },
  {
   "cell_type": "code",
   "execution_count": 176,
   "id": "a436506a-9f85-4c3d-a513-d1d96823925b",
   "metadata": {},
   "outputs": [],
   "source": [
    "from transformers import AutoModelForSequenceClassification\n",
    "\n",
    "model = AutoModelForSequenceClassification.from_pretrained('fine-tuned-model')"
   ]
  },
  {
   "cell_type": "code",
   "execution_count": 180,
   "id": "66c073af-614e-4c42-b71e-e10f90bd8751",
   "metadata": {},
   "outputs": [],
   "source": [
    "import torch.nn.utils.prune as prune\n",
    "from torch.quantization import quantize_dynamic\n",
    "\n",
    "for name, module in model.named_modules():\n",
    "    if isinstance(module, torch.nn.Linear):\n",
    "        prune.l1_unstructured(module, name='weight', amount=0.5)\n",
    "\n",
    "for module in model.modules():\n",
    "    if isinstance(module, torch.nn.Linear):\n",
    "        prune.remove(module, 'weight')\n",
    "\n",
    "model_prune_quant = quantize_dynamic(\n",
    "    model, \n",
    "    {torch.nn.Linear},\n",
    "    dtype=torch.qint8\n",
    ")"
   ]
  },
  {
   "cell_type": "code",
   "execution_count": 178,
   "id": "0b3060a7-a927-4278-8837-3cc994590d30",
   "metadata": {},
   "outputs": [
    {
     "name": "stdout",
     "output_type": "stream",
     "text": [
      "F1 Score: 0.416\n",
      "Precision: 0.491\n",
      "Recall: 0.452\n"
     ]
    }
   ],
   "source": [
    "predictions, true_labels = predict(model, test_loader, device)\n",
    "\n",
    "# Calculate metrics\n",
    "f1 = f1_score(true_labels, predictions, average='weighted')\n",
    "precision = precision_score(true_labels, predictions, average='weighted')\n",
    "recall = recall_score(true_labels, predictions, average='weighted')\n",
    "\n",
    "print(f\"F1 Score: {f1:.3}\")\n",
    "print(f\"Precision: {precision:.3}\")\n",
    "print(f\"Recall: {recall:.3}\")"
   ]
  },
  {
   "cell_type": "markdown",
   "id": "77dac272-37ed-419c-be20-247bd9f7947f",
   "metadata": {},
   "source": [
    "# Predict Tag"
   ]
  },
  {
   "cell_type": "code",
   "execution_count": 129,
   "id": "0eadbe81-58ec-49cd-b67c-83ffb357d82f",
   "metadata": {},
   "outputs": [
    {
     "data": {
      "text/plain": [
       "'javascript'"
      ]
     },
     "execution_count": 129,
     "metadata": {},
     "output_type": "execute_result"
    }
   ],
   "source": [
    "def predict_tag(title, model, tokenizer, label_encoder, max_length, device):\n",
    "    # Tokenize and prepare the input text\n",
    "    inputs = tokenizer.encode_plus(\n",
    "        title,\n",
    "        None,\n",
    "        add_special_tokens=True,\n",
    "        max_length=max_length,\n",
    "        padding='max_length',\n",
    "        return_token_type_ids=True,\n",
    "        truncation=True\n",
    "    )\n",
    "    \n",
    "    ids = torch.tensor(inputs['input_ids'], dtype=torch.long).unsqueeze(0).to(device)\n",
    "    mask = torch.tensor(inputs['attention_mask'], dtype=torch.long).unsqueeze(0).to(device)\n",
    "\n",
    "    # Get the model prediction\n",
    "    model.eval()\n",
    "    with torch.no_grad():\n",
    "        outputs = model(input_ids=ids, attention_mask=mask)\n",
    "        prediction = torch.argmax(outputs.logits, dim=1).cpu().numpy()\n",
    "\n",
    "    # Decode the prediction\n",
    "    predicted_tag = label_encoder.inverse_transform(prediction)[0]\n",
    "\n",
    "    return predicted_tag\n",
    "\n",
    "predict_tag(\"Hi. I'm a Title\", model, tokenizer, label_encoder, max_length, device)"
   ]
  },
  {
   "cell_type": "code",
   "execution_count": 158,
   "id": "ae5e9604-2d11-48e7-8111-d24b6a22f0e9",
   "metadata": {},
   "outputs": [],
   "source": [
    "def time_predictions(model, titles, tokenizer, label_encoder, max_length, device, num_iterations=10):\n",
    "    total_time = 0\n",
    "    for _ in range(num_iterations):\n",
    "        for title in titles:\n",
    "            start_time = time.time()\n",
    "            predict_tag(title, model, tokenizer, label_encoder, max_length, device)\n",
    "            total_time += time.time() - start_time\n",
    "\n",
    "    average_time = total_time / (len(titles) * num_iterations)\n",
    "    return average_time"
   ]
  },
  {
   "cell_type": "code",
   "execution_count": 181,
   "id": "a2ce6214-de39-4b47-8bfa-672d2db4b4d9",
   "metadata": {},
   "outputs": [],
   "source": [
    "model = AutoModelForSequenceClassification.from_pretrained('fine-tuned-model')\n",
    "model_prune = AutoModelForSequenceClassification.from_pretrained('fine-tuned-model-prune')"
   ]
  },
  {
   "cell_type": "code",
   "execution_count": 184,
   "id": "5ef2d4b5-50da-4719-8475-860cf0439d51",
   "metadata": {},
   "outputs": [
    {
     "name": "stdout",
     "output_type": "stream",
     "text": [
      "Standard Model Average Time: 0.03564\n",
      "Pruned Model Average Time: 0.03585\n",
      "Quantized Model Average Time: 0.01874\n",
      "Pruned and Quantized Model Average Time: 0.01954\n"
     ]
    }
   ],
   "source": [
    "sample_titles = [f\"{i}. example question and some random words\" for i in range(10)]\n",
    "\n",
    "standard_model_time = time_predictions(model, sample_titles, tokenizer, label_encoder, max_length, device)\n",
    "pruned_model_time = time_predictions(model_prune, sample_titles, tokenizer, label_encoder, max_length, device)\n",
    "quantized_model_time = time_predictions(quantized_model, sample_titles, tokenizer, label_encoder, max_length, device)\n",
    "p_q_model_time = time_predictions(model_prune_quant, sample_titles, tokenizer, label_encoder, max_length, device)\n",
    "\n",
    "print(f\"Standard Model Average Time: {standard_model_time:.4}\")\n",
    "print(f\"Pruned Model Average Time: {pruned_model_time:.4}\")\n",
    "print(f\"Quantized Model Average Time: {quantized_model_time:.4}\")\n",
    "print(f\"Pruned and Quantized Model Average Time: {p_q_model_time:.4}\")"
   ]
  },
  {
   "cell_type": "code",
   "execution_count": null,
   "id": "03524e24-46d4-4448-bbd5-01779fe9428e",
   "metadata": {},
   "outputs": [],
   "source": []
  }
 ],
 "metadata": {
  "kernelspec": {
   "display_name": "Python 3 (ipykernel)",
   "language": "python",
   "name": "python3"
  },
  "language_info": {
   "codemirror_mode": {
    "name": "ipython",
    "version": 3
   },
   "file_extension": ".py",
   "mimetype": "text/x-python",
   "name": "python",
   "nbconvert_exporter": "python",
   "pygments_lexer": "ipython3",
   "version": "3.10.12"
  }
 },
 "nbformat": 4,
 "nbformat_minor": 5
}
