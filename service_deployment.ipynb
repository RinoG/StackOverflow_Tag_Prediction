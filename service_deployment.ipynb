{
 "cells": [
  {
   "cell_type": "markdown",
   "id": "f8601486-8c6f-41be-8226-24a5433270ab",
   "metadata": {},
   "source": [
    "# Example response"
   ]
  },
  {
   "cell_type": "code",
   "execution_count": null,
   "id": "bab257ae-e8c2-4923-bd3c-d1dc8f929897",
   "metadata": {},
   "outputs": [],
   "source": [
    "# this will block jupyter. run it in terminal\n",
    "# ! python3 server.py"
   ]
  },
  {
   "cell_type": "code",
   "execution_count": 16,
   "id": "9f3e7b46-b807-48b2-b59f-a1717a29f709",
   "metadata": {},
   "outputs": [],
   "source": [
    "import requests\n",
    "\n",
    "url = \"http://localhost:5000/predict\"\n",
    "\n",
    "data = {\n",
    "    \"title\": \"This is an example Title\"\n",
    "}\n",
    "response = requests.post(url, json=data)"
   ]
  },
  {
   "cell_type": "code",
   "execution_count": 17,
   "id": "9dd584df-3684-4374-ba5e-2634ed1a6783",
   "metadata": {},
   "outputs": [
    {
     "name": "stdout",
     "output_type": "stream",
     "text": [
      "Response from API: {'predicted_tag': 'php'}\n"
     ]
    }
   ],
   "source": [
    "if response.status_code == 200:\n",
    "    print(\"Response from API:\", response.json())\n",
    "else:\n",
    "    print(\"Failed to get a response:\", response.status_code)"
   ]
  },
  {
   "cell_type": "code",
   "execution_count": null,
   "id": "866dc8eb-1e45-46fa-baa8-5c0826bc5fba",
   "metadata": {},
   "outputs": [],
   "source": []
  }
 ],
 "metadata": {
  "kernelspec": {
   "display_name": "Python 3 (ipykernel)",
   "language": "python",
   "name": "python3"
  },
  "language_info": {
   "codemirror_mode": {
    "name": "ipython",
    "version": 3
   },
   "file_extension": ".py",
   "mimetype": "text/x-python",
   "name": "python",
   "nbconvert_exporter": "python",
   "pygments_lexer": "ipython3",
   "version": "3.10.12"
  }
 },
 "nbformat": 4,
 "nbformat_minor": 5
}
